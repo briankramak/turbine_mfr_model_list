{
 "cells": [
  {
   "cell_type": "markdown",
   "metadata": {},
   "source": [
    "### Simple notebook to summarize top wind turbine manufacturers and models used in USA\n",
    "\n",
    "Intent is to use as a list in other work to enforce turbine mfr/model naming convention"
   ]
  },
  {
   "cell_type": "code",
   "execution_count": null,
   "metadata": {},
   "outputs": [],
   "source": [
    "import sys\n",
    "import os\n",
    "import glob\n",
    "from pathlib import Path\n",
    "\n",
    "cwd = Path.cwd()\n",
    "print('Current working directory: ', cwd)\n",
    "\n",
    "print('python version: ', sys.version) # uses python version 3.11.5\n",
    "\n",
    "import polars as pl\n",
    "print('polars version: ', pl.__version__) # uses polars version 1.17.1\n",
    "\n",
    "import requests # to get data from the website https://eerscmap.usgs.gov/uswtdb/data/\n",
    "import zipfile # to extract the zip file downloaded from the website\n",
    "\n"
   ]
  },
  {
   "cell_type": "code",
   "execution_count": null,
   "metadata": {},
   "outputs": [],
   "source": [
    "\n",
    "# URL of the zip file\n",
    "url = \"https://eerscmap.usgs.gov/uswtdb/assets/data/uswtdbCSV.zip\"\n",
    "\n",
    "try:\n",
    "    # Download the file with a timeout\n",
    "    response = requests.get(url, timeout=10)\n",
    "    response.raise_for_status()  # Check if the request was successful\n",
    "\n",
    "    # Save the file in the current directory\n",
    "    with open(cwd / \"uswtdbCSV.zip\", \"wb\") as file:\n",
    "        file.write(response.content)\n",
    "\n",
    "    print(\"File downloaded and saved as uswtdbCSV.zip\")\n",
    "\n",
    "except requests.exceptions.RequestException as e:\n",
    "    print(f\"Error downloading the file: {e}\")\n",
    "\n"
   ]
  },
  {
   "cell_type": "code",
   "execution_count": null,
   "metadata": {},
   "outputs": [],
   "source": [
    "# unzip file uswtdbCSV.zip to the current directory\n",
    "import zipfile\n",
    "with zipfile.ZipFile(cwd / 'uswtdbCSV.zip', 'r') as zip_ref:\n",
    "    zip_ref.extractall()"
   ]
  },
  {
   "cell_type": "code",
   "execution_count": null,
   "metadata": {},
   "outputs": [],
   "source": [
    "\n",
    "\n",
    "# get the name of the csv file in the unzipped folder\n",
    "file = glob.glob(str(cwd / 'uswtdb*.csv'))[0]\n",
    "print(file)"
   ]
  },
  {
   "cell_type": "code",
   "execution_count": null,
   "metadata": {},
   "outputs": [],
   "source": [
    "# get data from csv file as polars df\n",
    "data = pl.read_csv(file, null_values=['', 'NA', 'null'])\n",
    "print(data.head())"
   ]
  },
  {
   "cell_type": "code",
   "execution_count": null,
   "metadata": {},
   "outputs": [],
   "source": [
    "# print the columns in the df\n",
    "for i,c in enumerate(data.columns):\n",
    "    print(c, end=',')\n",
    "    if i%10 == 0:\n",
    "        print('')"
   ]
  },
  {
   "cell_type": "code",
   "execution_count": null,
   "metadata": {},
   "outputs": [],
   "source": [
    "# group data by t_manu and get counts to identify popularity by mfr\n",
    "mfrs = (data.group_by(['t_manu']).agg(pl.col('eia_id').count().alias('mfr_count'))\n",
    "            .sort('mfr_count', descending=True)\n",
    "            .filter( (pl.col('mfr_count') > 500) & (pl.col('t_manu').is_not_null()) ))\n",
    "mfrs"
   ]
  },
  {
   "cell_type": "code",
   "execution_count": null,
   "metadata": {},
   "outputs": [],
   "source": [
    "# get the main models (hh separately as there are several models with multiple hh)\n",
    "models = (data.with_columns(pl.col('t_model').str.replace(' ', '').alias('t_model'))\n",
    "              .group_by(['t_manu', 't_model', 't_cap','t_rd'])\n",
    "              .agg(pl.col('eia_id').count().alias('model_count'))\n",
    "              .sort('model_count', descending=True)\n",
    "              .filter(pl.col('model_count') > 100))\n",
    "models"
   ]
  },
  {
   "cell_type": "code",
   "execution_count": null,
   "metadata": {},
   "outputs": [],
   "source": [
    "# get hubheights for the models as a list - cast to string so they can be joined into a single string value to export to csv\n",
    "hh = (data.filter( (pl.col('t_hh').is_not_null()) & (pl.col('t_manu').is_not_null()) & (pl.col('t_model').is_not_null()) )\n",
    "          .group_by(['t_manu', 't_model', 't_cap','t_rd'])\n",
    "          .agg(pl.col('t_hh').unique().sort().cast(pl.Utf8))\n",
    "          .with_columns(pl.col('t_hh').list.join(', ').alias('t_hh'))\n",
    "          .sort('t_manu', 't_cap', 't_rd'))\n",
    "hh\n"
   ]
  },
  {
   "cell_type": "code",
   "execution_count": null,
   "metadata": {},
   "outputs": [],
   "source": [
    "# join models and hh on t_manu, t_model, t_cap, t_rd\n",
    "joined = (models.join(hh, on=['t_manu', 't_model', 't_cap', 't_rd'], how='inner')\n",
    "          .select(['t_manu', 't_model', 't_cap', 't_rd','t_hh','model_count'])\n",
    "          .sort(['t_manu', 't_model']))\n",
    "\n",
    "# join mfrs to set popluarity order by count\n",
    "joined = mfrs.join(joined, on=['t_manu'], how='left').sort(['mfr_count','t_cap','t_rd'], descending=[True,False,False])\n",
    "joined\n",
    "\n",
    "# on 2024-12-14, the filters applied above just happened to result in a top 100 list.\n"
   ]
  },
  {
   "cell_type": "code",
   "execution_count": null,
   "metadata": {},
   "outputs": [],
   "source": [
    "joined.write_csv('wind_turbines.csv')"
   ]
  }
 ],
 "metadata": {
  "kernelspec": {
   "display_name": "base",
   "language": "python",
   "name": "python3"
  },
  "language_info": {
   "codemirror_mode": {
    "name": "ipython",
    "version": 3
   },
   "file_extension": ".py",
   "mimetype": "text/x-python",
   "name": "python",
   "nbconvert_exporter": "python",
   "pygments_lexer": "ipython3",
   "version": "3.11.5"
  }
 },
 "nbformat": 4,
 "nbformat_minor": 2
}
