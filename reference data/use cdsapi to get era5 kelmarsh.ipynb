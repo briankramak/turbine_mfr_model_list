{
 "cells": [
  {
   "cell_type": "markdown",
   "metadata": {},
   "source": [
    "## simple notebook to get ERA5 data for Kelmarsh wind farm\n",
    "\n",
    "We often need to fill in gaps for missing on site records. Having datasets like MERRA2 and ERA5 gives us a data source that can be used to build models to fill gaps. This is a simplified example. A professional analyst would convert this notebook to a function that accepted the lat/long for a site, or would develop a loop to get multiple sites and would set the date range for data programmatically.  \n",
    "\n",
    "This notebook gets ERA5 data for the Kelmarsh wind farm in the UK at lat 52.401461, long -0.943105\n",
    "using information available from <br>\n",
    "CDS https://cds.climate.copernicus.eu/how-to-api\n",
    "\n",
    "\n",
    "This code will not work until you sign up for a cds account and follow the instructions on the CDS page above to get your own api key.\n",
    "\n",
    "Did you get your own api key yet?\n",
    "\n",
    "### Identify surrounding 4 grid points"
   ]
  },
  {
   "cell_type": "code",
   "execution_count": 1,
   "metadata": {},
   "outputs": [
    {
     "name": "stdout",
     "output_type": "stream",
     "text": [
      "For point (52.5, -1.0), distance is 11.771 km from Kelmarsh at 52.4, -0.943\n",
      "For point (52.25, -1.0), distance is 17.123 km from Kelmarsh at 52.4, -0.943\n",
      "For point (52.5, -0.75), distance is 17.167 km from Kelmarsh at 52.4, -0.943\n",
      "For point (52.25, -0.75), distance is 21.219 km from Kelmarsh at 52.4, -0.943\n"
     ]
    }
   ],
   "source": [
    "import math # to use math functions like radians, atan2\n",
    "import numpy as np\n",
    "import polars as pl # to use polars dataframes for our data\n",
    "import polars.selectors as cs # to use column selectors in polars\n",
    "\n",
    "# Set the display width\n",
    "pl.Config.set_tbl_cols(100)  # Set the number of polars df columns to display when printing\n",
    "pl.Config.set_tbl_width_chars(200)  # Set the width of polars df columns in characters when printing\n",
    "\n",
    "import cdsapi # to get the ERA5 data\n",
    "\n",
    "from calendar import monthrange # to get the number of days in a month\n",
    "from pathlib import Path # to work with file paths\n",
    "import time # for time.sleep() to wait for the API to respond\n",
    "import xarray as xr # to read the netCDF files\n",
    "\n",
    "\n",
    "\n",
    "\n",
    "def get_surrounding_grid_points(lat, lon, interval=0.25):\n",
    "    # Calculate the nearest grid point\n",
    "    nearest_lat = np.round(lat / interval) * interval\n",
    "    nearest_lon = np.round(lon / interval) * interval\n",
    "\n",
    "    # Calculate surrounding grid points\n",
    "    lat_points = [nearest_lat - interval, nearest_lat, nearest_lat + interval]\n",
    "    lon_points = [nearest_lon - interval, nearest_lon, nearest_lon + interval]\n",
    "\n",
    "    # Generate all combinations of surrounding grid points\n",
    "    surrounding_points = [(lat, lon) for lat in lat_points for lon in lon_points]\n",
    "    \n",
    "    return surrounding_points\n",
    "\n",
    "def haversine(lat1, lon1, lat2, lon2):\n",
    "    # Radius of the Earth in kilometers\n",
    "    R = 6371.0\n",
    "\n",
    "    # Convert latitude and longitude from degrees to radians\n",
    "    lat1_rad = math.radians(lat1)\n",
    "    lon1_rad = math.radians(lon1)\n",
    "    lat2_rad = math.radians(lat2)\n",
    "    lon2_rad = math.radians(lon2)\n",
    "\n",
    "    # Compute differences\n",
    "    dlat = lat2_rad - lat1_rad\n",
    "    dlon = lon2_rad - lon1_rad\n",
    "\n",
    "    # Haversine formula\n",
    "    a = math.sin(dlat / 2)**2 + math.cos(lat1_rad) * math.cos(lat2_rad) * math.sin(dlon / 2)**2\n",
    "    c = 2 * math.atan2(math.sqrt(a), math.sqrt(1 - a))\n",
    "\n",
    "    # Distance in kilometers\n",
    "    distance = R * c\n",
    "    return distance\n",
    "\n",
    "def get_closest_grid_points(lat, lon, num_points=4):\n",
    "    surrounding_points = get_surrounding_grid_points(lat, lon)\n",
    "    distances = [(point, haversine(lat, lon, point[0], point[1])) for point in surrounding_points]\n",
    "    distances.sort(key=lambda x: x[1])\n",
    "    closest_points = [point for point, distance in distances[:num_points]]\n",
    "    return closest_points\n",
    "\n",
    "# Kelmarsh coordinates\n",
    "lat = 52.40\n",
    "lon = -0.943\n",
    "# find the ERA5 grid points closest to Kelmarsh - ERA5 data is on a 0.25 degree grid, both in latitude and longitude\n",
    "closest_points = get_closest_grid_points(lat, lon)\n",
    "\n",
    "\n",
    "# Print the closest points and their distances\n",
    "for point in closest_points:\n",
    "    distance = np.round(haversine(lat, lon, point[0], point[1]), 3)\n",
    "    print(f'For point {point}, distance is {distance} km from Kelmarsh at {lat}, {lon}')"
   ]
  },
  {
   "cell_type": "markdown",
   "metadata": {},
   "source": [
    "### get the data from CDS\n",
    "\n",
    "As noted above, you have to get an API key first from <br>\n",
    "CDS https://cds.climate.copernicus.eu/how-to-api\n",
    "\n",
    "\n"
   ]
  },
  {
   "cell_type": "code",
   "execution_count": 2,
   "metadata": {},
   "outputs": [
    {
     "name": "stderr",
     "output_type": "stream",
     "text": [
      "2024-12-17 19:15:52,127 INFO [2024-09-28T00:00:00] **Welcome to the New Climate Data Store (CDS)!** This new system is in its early days of full operations and still undergoing enhancements and fine tuning. Some disruptions are to be expected. Your \n",
      "[feedback](https://jira.ecmwf.int/plugins/servlet/desk/portal/1/create/202) is key to improve the user experience on the new CDS for the benefit of everyone. Thank you.\n",
      "2024-12-17 19:15:52,128 INFO [2024-09-26T00:00:00] Watch our [Forum](https://forum.ecmwf.int/) for Announcements, news and other discussed topics.\n",
      "2024-12-17 19:15:52,128 INFO [2024-09-16T00:00:00] Remember that you need to have an ECMWF account to use the new CDS. **Your old CDS credentials will not work in new CDS!**\n",
      "2024-12-17 19:15:52,129 WARNING [2024-06-16T00:00:00] CDS API syntax is changed and some keys or parameter names may have also changed. To avoid requests failing, please use the \"Show API request code\" tool on the dataset Download Form to check you are using the correct syntax for your API request.\n",
      "2024-12-17 19:15:52,845 WARNING [2024-10-10T00:00:00] The final validated ERA5 differs from ERA5T from July 2024 until further notice - please refer to our\n",
      "[Forum announcement](https://forum.ecmwf.int/t/final-validated-era5-product-to-differ-from-era5t-in-july-2024/6685)\n",
      "for details and watch it for further updates on this.\n",
      "2024-12-17 19:15:52,846 INFO Request ID is 486f66a2-7621-4ab0-b61e-d4b44d57614c\n",
      "2024-12-17 19:15:52,996 INFO status has been updated to accepted\n",
      "2024-12-17 19:16:07,027 INFO status has been updated to successful\n"
     ]
    },
    {
     "data": {
      "application/vnd.jupyter.widget-view+json": {
       "model_id": "c67500ab47164b32949240a10d24872e",
       "version_major": 2,
       "version_minor": 0
      },
      "text/plain": [
       "d2728c0e5919e2e50f16aa39bdfdb55d.nc:   0%|          | 0.00/161k [00:00<?, ?B/s]"
      ]
     },
     "metadata": {},
     "output_type": "display_data"
    },
    {
     "name": "stdout",
     "output_type": "stream",
     "text": [
      "Successfully downloaded data for 2020-01 into era5_netcdf_files\n"
     ]
    },
    {
     "name": "stderr",
     "output_type": "stream",
     "text": [
      "2024-12-17 19:16:10,543 INFO [2024-09-28T00:00:00] **Welcome to the New Climate Data Store (CDS)!** This new system is in its early days of full operations and still undergoing enhancements and fine tuning. Some disruptions are to be expected. Your \n",
      "[feedback](https://jira.ecmwf.int/plugins/servlet/desk/portal/1/create/202) is key to improve the user experience on the new CDS for the benefit of everyone. Thank you.\n",
      "2024-12-17 19:16:10,544 INFO [2024-09-26T00:00:00] Watch our [Forum](https://forum.ecmwf.int/) for Announcements, news and other discussed topics.\n",
      "2024-12-17 19:16:10,544 INFO [2024-09-16T00:00:00] Remember that you need to have an ECMWF account to use the new CDS. **Your old CDS credentials will not work in new CDS!**\n",
      "2024-12-17 19:16:10,545 WARNING [2024-06-16T00:00:00] CDS API syntax is changed and some keys or parameter names may have also changed. To avoid requests failing, please use the \"Show API request code\" tool on the dataset Download Form to check you are using the correct syntax for your API request.\n",
      "2024-12-17 19:16:11,464 WARNING [2024-10-10T00:00:00] The final validated ERA5 differs from ERA5T from July 2024 until further notice - please refer to our\n",
      "[Forum announcement](https://forum.ecmwf.int/t/final-validated-era5-product-to-differ-from-era5t-in-july-2024/6685)\n",
      "for details and watch it for further updates on this.\n",
      "2024-12-17 19:16:11,465 INFO Request ID is 1b600917-7744-4f72-a31d-ca7e79f7257a\n",
      "2024-12-17 19:16:11,684 INFO status has been updated to accepted\n",
      "2024-12-17 19:16:20,716 INFO status has been updated to running\n",
      "2024-12-17 19:16:26,023 INFO status has been updated to successful\n"
     ]
    },
    {
     "data": {
      "application/vnd.jupyter.widget-view+json": {
       "model_id": "b6471a0ea3284948a373245809b41178",
       "version_major": 2,
       "version_minor": 0
      },
      "text/plain": [
       "c1bdc3cce7be0dffdad129e203d6f08.nc:   0%|          | 0.00/158k [00:00<?, ?B/s]"
      ]
     },
     "metadata": {},
     "output_type": "display_data"
    },
    {
     "name": "stdout",
     "output_type": "stream",
     "text": [
      "Successfully downloaded data for 2020-02 into era5_netcdf_files\n"
     ]
    },
    {
     "name": "stderr",
     "output_type": "stream",
     "text": [
      "2024-12-17 19:16:28,375 INFO [2024-09-28T00:00:00] **Welcome to the New Climate Data Store (CDS)!** This new system is in its early days of full operations and still undergoing enhancements and fine tuning. Some disruptions are to be expected. Your \n",
      "[feedback](https://jira.ecmwf.int/plugins/servlet/desk/portal/1/create/202) is key to improve the user experience on the new CDS for the benefit of everyone. Thank you.\n",
      "2024-12-17 19:16:28,376 INFO [2024-09-26T00:00:00] Watch our [Forum](https://forum.ecmwf.int/) for Announcements, news and other discussed topics.\n",
      "2024-12-17 19:16:28,377 INFO [2024-09-16T00:00:00] Remember that you need to have an ECMWF account to use the new CDS. **Your old CDS credentials will not work in new CDS!**\n",
      "2024-12-17 19:16:28,377 WARNING [2024-06-16T00:00:00] CDS API syntax is changed and some keys or parameter names may have also changed. To avoid requests failing, please use the \"Show API request code\" tool on the dataset Download Form to check you are using the correct syntax for your API request.\n",
      "2024-12-17 19:16:29,156 WARNING [2024-10-10T00:00:00] The final validated ERA5 differs from ERA5T from July 2024 until further notice - please refer to our\n",
      "[Forum announcement](https://forum.ecmwf.int/t/final-validated-era5-product-to-differ-from-era5t-in-july-2024/6685)\n",
      "for details and watch it for further updates on this.\n",
      "2024-12-17 19:16:29,157 INFO Request ID is 9e50d47a-00c5-4e57-8380-79a6bc48fedd\n",
      "2024-12-17 19:16:29,493 INFO status has been updated to accepted\n",
      "2024-12-17 19:16:35,067 INFO status has been updated to successful\n"
     ]
    },
    {
     "data": {
      "application/vnd.jupyter.widget-view+json": {
       "model_id": "c4ee146b91494c1e8f8cbd1a50fd6f8a",
       "version_major": 2,
       "version_minor": 0
      },
      "text/plain": [
       "b375e45f388cf7de01cce01532d50de8.nc:   0%|          | 0.00/161k [00:00<?, ?B/s]"
      ]
     },
     "metadata": {},
     "output_type": "display_data"
    },
    {
     "name": "stdout",
     "output_type": "stream",
     "text": [
      "Successfully downloaded data for 2020-03 into era5_netcdf_files\n"
     ]
    },
    {
     "name": "stderr",
     "output_type": "stream",
     "text": [
      "2024-12-17 19:16:37,093 INFO [2024-09-28T00:00:00] **Welcome to the New Climate Data Store (CDS)!** This new system is in its early days of full operations and still undergoing enhancements and fine tuning. Some disruptions are to be expected. Your \n",
      "[feedback](https://jira.ecmwf.int/plugins/servlet/desk/portal/1/create/202) is key to improve the user experience on the new CDS for the benefit of everyone. Thank you.\n",
      "2024-12-17 19:16:37,094 INFO [2024-09-26T00:00:00] Watch our [Forum](https://forum.ecmwf.int/) for Announcements, news and other discussed topics.\n",
      "2024-12-17 19:16:37,094 INFO [2024-09-16T00:00:00] Remember that you need to have an ECMWF account to use the new CDS. **Your old CDS credentials will not work in new CDS!**\n",
      "2024-12-17 19:16:37,095 WARNING [2024-06-16T00:00:00] CDS API syntax is changed and some keys or parameter names may have also changed. To avoid requests failing, please use the \"Show API request code\" tool on the dataset Download Form to check you are using the correct syntax for your API request.\n",
      "2024-12-17 19:16:37,798 WARNING [2024-10-10T00:00:00] The final validated ERA5 differs from ERA5T from July 2024 until further notice - please refer to our\n",
      "[Forum announcement](https://forum.ecmwf.int/t/final-validated-era5-product-to-differ-from-era5t-in-july-2024/6685)\n",
      "for details and watch it for further updates on this.\n",
      "2024-12-17 19:16:37,799 INFO Request ID is 4103e1b2-e081-4a85-9d00-e02eab56b0e4\n",
      "2024-12-17 19:16:37,941 INFO status has been updated to accepted\n",
      "2024-12-17 19:16:46,647 INFO status has been updated to running\n",
      "2024-12-17 19:16:51,865 INFO status has been updated to successful\n"
     ]
    },
    {
     "data": {
      "application/vnd.jupyter.widget-view+json": {
       "model_id": "f7fc82809e7b404b96ae831d7aab108f",
       "version_major": 2,
       "version_minor": 0
      },
      "text/plain": [
       "a289662f1624b177659d2e6bebac123.nc:   0%|          | 0.00/160k [00:00<?, ?B/s]"
      ]
     },
     "metadata": {},
     "output_type": "display_data"
    },
    {
     "name": "stdout",
     "output_type": "stream",
     "text": [
      "Successfully downloaded data for 2020-04 into era5_netcdf_files\n"
     ]
    },
    {
     "name": "stderr",
     "output_type": "stream",
     "text": [
      "2024-12-17 19:16:54,051 INFO [2024-09-28T00:00:00] **Welcome to the New Climate Data Store (CDS)!** This new system is in its early days of full operations and still undergoing enhancements and fine tuning. Some disruptions are to be expected. Your \n",
      "[feedback](https://jira.ecmwf.int/plugins/servlet/desk/portal/1/create/202) is key to improve the user experience on the new CDS for the benefit of everyone. Thank you.\n",
      "2024-12-17 19:16:54,051 INFO [2024-09-26T00:00:00] Watch our [Forum](https://forum.ecmwf.int/) for Announcements, news and other discussed topics.\n",
      "2024-12-17 19:16:54,052 INFO [2024-09-16T00:00:00] Remember that you need to have an ECMWF account to use the new CDS. **Your old CDS credentials will not work in new CDS!**\n",
      "2024-12-17 19:16:54,052 WARNING [2024-06-16T00:00:00] CDS API syntax is changed and some keys or parameter names may have also changed. To avoid requests failing, please use the \"Show API request code\" tool on the dataset Download Form to check you are using the correct syntax for your API request.\n",
      "2024-12-17 19:16:54,698 WARNING [2024-10-10T00:00:00] The final validated ERA5 differs from ERA5T from July 2024 until further notice - please refer to our\n",
      "[Forum announcement](https://forum.ecmwf.int/t/final-validated-era5-product-to-differ-from-era5t-in-july-2024/6685)\n",
      "for details and watch it for further updates on this.\n",
      "2024-12-17 19:16:54,698 INFO Request ID is a7637218-fd74-4cb2-ad5d-b11030c9bc3a\n",
      "2024-12-17 19:16:54,957 INFO status has been updated to accepted\n",
      "2024-12-17 19:17:00,159 INFO status has been updated to running\n",
      "2024-12-17 19:17:03,688 INFO status has been updated to successful\n"
     ]
    },
    {
     "data": {
      "application/vnd.jupyter.widget-view+json": {
       "model_id": "296f54226131423c84f77dbfd27fe2fa",
       "version_major": 2,
       "version_minor": 0
      },
      "text/plain": [
       "2952f0a39b767628d152f78f57913e96.nc:   0%|          | 0.00/161k [00:00<?, ?B/s]"
      ]
     },
     "metadata": {},
     "output_type": "display_data"
    },
    {
     "name": "stdout",
     "output_type": "stream",
     "text": [
      "Successfully downloaded data for 2020-05 into era5_netcdf_files\n"
     ]
    },
    {
     "name": "stderr",
     "output_type": "stream",
     "text": [
      "2024-12-17 19:17:06,108 INFO [2024-09-28T00:00:00] **Welcome to the New Climate Data Store (CDS)!** This new system is in its early days of full operations and still undergoing enhancements and fine tuning. Some disruptions are to be expected. Your \n",
      "[feedback](https://jira.ecmwf.int/plugins/servlet/desk/portal/1/create/202) is key to improve the user experience on the new CDS for the benefit of everyone. Thank you.\n",
      "2024-12-17 19:17:06,109 INFO [2024-09-26T00:00:00] Watch our [Forum](https://forum.ecmwf.int/) for Announcements, news and other discussed topics.\n",
      "2024-12-17 19:17:06,110 INFO [2024-09-16T00:00:00] Remember that you need to have an ECMWF account to use the new CDS. **Your old CDS credentials will not work in new CDS!**\n",
      "2024-12-17 19:17:06,110 WARNING [2024-06-16T00:00:00] CDS API syntax is changed and some keys or parameter names may have also changed. To avoid requests failing, please use the \"Show API request code\" tool on the dataset Download Form to check you are using the correct syntax for your API request.\n",
      "2024-12-17 19:17:07,208 WARNING [2024-10-10T00:00:00] The final validated ERA5 differs from ERA5T from July 2024 until further notice - please refer to our\n",
      "[Forum announcement](https://forum.ecmwf.int/t/final-validated-era5-product-to-differ-from-era5t-in-july-2024/6685)\n",
      "for details and watch it for further updates on this.\n",
      "2024-12-17 19:17:07,209 INFO Request ID is aca6e91f-b9fb-4f2d-b841-5974e0790e55\n",
      "2024-12-17 19:17:07,370 INFO status has been updated to accepted\n",
      "2024-12-17 19:17:13,187 INFO status has been updated to successful\n"
     ]
    },
    {
     "data": {
      "application/vnd.jupyter.widget-view+json": {
       "model_id": "1ba5c1ba4c634dea9aa84dbf9d0c454a",
       "version_major": 2,
       "version_minor": 0
      },
      "text/plain": [
       "8ac66563eb5814d8f1c1bdf76fb003c9.nc:   0%|          | 0.00/160k [00:00<?, ?B/s]"
      ]
     },
     "metadata": {},
     "output_type": "display_data"
    },
    {
     "name": "stdout",
     "output_type": "stream",
     "text": [
      "Successfully downloaded data for 2020-06 into era5_netcdf_files\n"
     ]
    },
    {
     "name": "stderr",
     "output_type": "stream",
     "text": [
      "2024-12-17 19:17:15,205 INFO [2024-09-28T00:00:00] **Welcome to the New Climate Data Store (CDS)!** This new system is in its early days of full operations and still undergoing enhancements and fine tuning. Some disruptions are to be expected. Your \n",
      "[feedback](https://jira.ecmwf.int/plugins/servlet/desk/portal/1/create/202) is key to improve the user experience on the new CDS for the benefit of everyone. Thank you.\n",
      "2024-12-17 19:17:15,206 INFO [2024-09-26T00:00:00] Watch our [Forum](https://forum.ecmwf.int/) for Announcements, news and other discussed topics.\n",
      "2024-12-17 19:17:15,206 INFO [2024-09-16T00:00:00] Remember that you need to have an ECMWF account to use the new CDS. **Your old CDS credentials will not work in new CDS!**\n",
      "2024-12-17 19:17:15,206 WARNING [2024-06-16T00:00:00] CDS API syntax is changed and some keys or parameter names may have also changed. To avoid requests failing, please use the \"Show API request code\" tool on the dataset Download Form to check you are using the correct syntax for your API request.\n",
      "2024-12-17 19:17:16,132 WARNING [2024-10-10T00:00:00] The final validated ERA5 differs from ERA5T from July 2024 until further notice - please refer to our\n",
      "[Forum announcement](https://forum.ecmwf.int/t/final-validated-era5-product-to-differ-from-era5t-in-july-2024/6685)\n",
      "for details and watch it for further updates on this.\n",
      "2024-12-17 19:17:16,133 INFO Request ID is a58a062c-10c5-49bc-a08e-d147f0b70796\n",
      "2024-12-17 19:17:16,465 INFO status has been updated to accepted\n",
      "2024-12-17 19:17:25,379 INFO status has been updated to successful\n"
     ]
    },
    {
     "data": {
      "application/vnd.jupyter.widget-view+json": {
       "model_id": "dcdb203a5c174645b62008167eccf776",
       "version_major": 2,
       "version_minor": 0
      },
      "text/plain": [
       "9199b409382cae63fb5e06df71dc422.nc:   0%|          | 0.00/161k [00:00<?, ?B/s]"
      ]
     },
     "metadata": {},
     "output_type": "display_data"
    },
    {
     "name": "stdout",
     "output_type": "stream",
     "text": [
      "Successfully downloaded data for 2020-07 into era5_netcdf_files\n"
     ]
    },
    {
     "name": "stderr",
     "output_type": "stream",
     "text": [
      "2024-12-17 19:17:27,648 INFO [2024-09-28T00:00:00] **Welcome to the New Climate Data Store (CDS)!** This new system is in its early days of full operations and still undergoing enhancements and fine tuning. Some disruptions are to be expected. Your \n",
      "[feedback](https://jira.ecmwf.int/plugins/servlet/desk/portal/1/create/202) is key to improve the user experience on the new CDS for the benefit of everyone. Thank you.\n",
      "2024-12-17 19:17:27,649 INFO [2024-09-26T00:00:00] Watch our [Forum](https://forum.ecmwf.int/) for Announcements, news and other discussed topics.\n",
      "2024-12-17 19:17:27,649 INFO [2024-09-16T00:00:00] Remember that you need to have an ECMWF account to use the new CDS. **Your old CDS credentials will not work in new CDS!**\n",
      "2024-12-17 19:17:27,650 WARNING [2024-06-16T00:00:00] CDS API syntax is changed and some keys or parameter names may have also changed. To avoid requests failing, please use the \"Show API request code\" tool on the dataset Download Form to check you are using the correct syntax for your API request.\n",
      "2024-12-17 19:17:28,611 WARNING [2024-10-10T00:00:00] The final validated ERA5 differs from ERA5T from July 2024 until further notice - please refer to our\n",
      "[Forum announcement](https://forum.ecmwf.int/t/final-validated-era5-product-to-differ-from-era5t-in-july-2024/6685)\n",
      "for details and watch it for further updates on this.\n",
      "2024-12-17 19:17:28,612 INFO Request ID is e11babc2-05f0-446c-93c9-a1d402a6dbcc\n",
      "2024-12-17 19:17:28,766 INFO status has been updated to accepted\n",
      "2024-12-17 19:17:37,505 INFO status has been updated to running\n",
      "2024-12-17 19:17:42,738 INFO status has been updated to successful\n"
     ]
    },
    {
     "data": {
      "application/vnd.jupyter.widget-view+json": {
       "model_id": "c7afa0d2b6064dba8dd328792137e2c3",
       "version_major": 2,
       "version_minor": 0
      },
      "text/plain": [
       "5ac2ae2e71402e9580609ac1a4dffbc3.nc:   0%|          | 0.00/162k [00:00<?, ?B/s]"
      ]
     },
     "metadata": {},
     "output_type": "display_data"
    },
    {
     "name": "stdout",
     "output_type": "stream",
     "text": [
      "Successfully downloaded data for 2020-08 into era5_netcdf_files\n"
     ]
    },
    {
     "name": "stderr",
     "output_type": "stream",
     "text": [
      "2024-12-17 19:17:50,154 INFO [2024-09-28T00:00:00] **Welcome to the New Climate Data Store (CDS)!** This new system is in its early days of full operations and still undergoing enhancements and fine tuning. Some disruptions are to be expected. Your \n",
      "[feedback](https://jira.ecmwf.int/plugins/servlet/desk/portal/1/create/202) is key to improve the user experience on the new CDS for the benefit of everyone. Thank you.\n",
      "2024-12-17 19:17:50,154 INFO [2024-09-26T00:00:00] Watch our [Forum](https://forum.ecmwf.int/) for Announcements, news and other discussed topics.\n",
      "2024-12-17 19:17:50,155 INFO [2024-09-16T00:00:00] Remember that you need to have an ECMWF account to use the new CDS. **Your old CDS credentials will not work in new CDS!**\n",
      "2024-12-17 19:17:50,155 WARNING [2024-06-16T00:00:00] CDS API syntax is changed and some keys or parameter names may have also changed. To avoid requests failing, please use the \"Show API request code\" tool on the dataset Download Form to check you are using the correct syntax for your API request.\n",
      "2024-12-17 19:17:51,447 WARNING [2024-10-10T00:00:00] The final validated ERA5 differs from ERA5T from July 2024 until further notice - please refer to our\n",
      "[Forum announcement](https://forum.ecmwf.int/t/final-validated-era5-product-to-differ-from-era5t-in-july-2024/6685)\n",
      "for details and watch it for further updates on this.\n",
      "2024-12-17 19:17:51,448 INFO Request ID is 643cd7fd-b961-43b3-bbd4-7cee7d7b831b\n",
      "2024-12-17 19:17:51,728 INFO status has been updated to accepted\n",
      "2024-12-17 19:18:00,853 INFO status has been updated to running\n",
      "2024-12-17 19:18:06,149 INFO status has been updated to successful\n"
     ]
    },
    {
     "data": {
      "application/vnd.jupyter.widget-view+json": {
       "model_id": "f843c9b5625640848bf2498d17dc37ce",
       "version_major": 2,
       "version_minor": 0
      },
      "text/plain": [
       "5f1493708bcba60d147ce8de8eb78e4f.nc:   0%|          | 0.00/159k [00:00<?, ?B/s]"
      ]
     },
     "metadata": {},
     "output_type": "display_data"
    },
    {
     "name": "stdout",
     "output_type": "stream",
     "text": [
      "Successfully downloaded data for 2020-09 into era5_netcdf_files\n"
     ]
    },
    {
     "name": "stderr",
     "output_type": "stream",
     "text": [
      "2024-12-17 19:18:08,613 INFO [2024-09-28T00:00:00] **Welcome to the New Climate Data Store (CDS)!** This new system is in its early days of full operations and still undergoing enhancements and fine tuning. Some disruptions are to be expected. Your \n",
      "[feedback](https://jira.ecmwf.int/plugins/servlet/desk/portal/1/create/202) is key to improve the user experience on the new CDS for the benefit of everyone. Thank you.\n",
      "2024-12-17 19:18:08,614 INFO [2024-09-26T00:00:00] Watch our [Forum](https://forum.ecmwf.int/) for Announcements, news and other discussed topics.\n",
      "2024-12-17 19:18:08,614 INFO [2024-09-16T00:00:00] Remember that you need to have an ECMWF account to use the new CDS. **Your old CDS credentials will not work in new CDS!**\n",
      "2024-12-17 19:18:08,615 WARNING [2024-06-16T00:00:00] CDS API syntax is changed and some keys or parameter names may have also changed. To avoid requests failing, please use the \"Show API request code\" tool on the dataset Download Form to check you are using the correct syntax for your API request.\n",
      "2024-12-17 19:18:09,553 WARNING [2024-10-10T00:00:00] The final validated ERA5 differs from ERA5T from July 2024 until further notice - please refer to our\n",
      "[Forum announcement](https://forum.ecmwf.int/t/final-validated-era5-product-to-differ-from-era5t-in-july-2024/6685)\n",
      "for details and watch it for further updates on this.\n",
      "2024-12-17 19:18:09,553 INFO Request ID is 700bf67c-a7b2-4f08-8f0c-1210562fcc1e\n",
      "2024-12-17 19:18:09,787 INFO status has been updated to accepted\n",
      "2024-12-17 19:18:16,073 INFO status has been updated to running\n",
      "2024-12-17 19:18:19,689 INFO status has been updated to successful\n"
     ]
    },
    {
     "data": {
      "application/vnd.jupyter.widget-view+json": {
       "model_id": "bed97eafd12f4f5fb080c5f5ea94eb3d",
       "version_major": 2,
       "version_minor": 0
      },
      "text/plain": [
       "754984865d49c3793c0fbf254442a7a4.nc:   0%|          | 0.00/161k [00:00<?, ?B/s]"
      ]
     },
     "metadata": {},
     "output_type": "display_data"
    },
    {
     "name": "stdout",
     "output_type": "stream",
     "text": [
      "Successfully downloaded data for 2020-10 into era5_netcdf_files\n"
     ]
    },
    {
     "name": "stderr",
     "output_type": "stream",
     "text": [
      "2024-12-17 19:18:22,084 INFO [2024-09-28T00:00:00] **Welcome to the New Climate Data Store (CDS)!** This new system is in its early days of full operations and still undergoing enhancements and fine tuning. Some disruptions are to be expected. Your \n",
      "[feedback](https://jira.ecmwf.int/plugins/servlet/desk/portal/1/create/202) is key to improve the user experience on the new CDS for the benefit of everyone. Thank you.\n",
      "2024-12-17 19:18:22,084 INFO [2024-09-26T00:00:00] Watch our [Forum](https://forum.ecmwf.int/) for Announcements, news and other discussed topics.\n",
      "2024-12-17 19:18:22,085 INFO [2024-09-16T00:00:00] Remember that you need to have an ECMWF account to use the new CDS. **Your old CDS credentials will not work in new CDS!**\n",
      "2024-12-17 19:18:22,085 WARNING [2024-06-16T00:00:00] CDS API syntax is changed and some keys or parameter names may have also changed. To avoid requests failing, please use the \"Show API request code\" tool on the dataset Download Form to check you are using the correct syntax for your API request.\n",
      "2024-12-17 19:18:23,554 WARNING [2024-10-10T00:00:00] The final validated ERA5 differs from ERA5T from July 2024 until further notice - please refer to our\n",
      "[Forum announcement](https://forum.ecmwf.int/t/final-validated-era5-product-to-differ-from-era5t-in-july-2024/6685)\n",
      "for details and watch it for further updates on this.\n",
      "2024-12-17 19:18:23,554 INFO Request ID is 959572e1-5f26-49b2-94b7-12bb3bb4441e\n",
      "2024-12-17 19:18:23,689 INFO status has been updated to accepted\n",
      "2024-12-17 19:18:28,841 INFO status has been updated to running\n",
      "2024-12-17 19:18:32,351 INFO status has been updated to successful\n"
     ]
    },
    {
     "data": {
      "application/vnd.jupyter.widget-view+json": {
       "model_id": "ebf1099ae1fb49f785439312b7e15c9b",
       "version_major": 2,
       "version_minor": 0
      },
      "text/plain": [
       "9fdb62ae2e74a08664f2daca6fb4ab13.nc:   0%|          | 0.00/159k [00:00<?, ?B/s]"
      ]
     },
     "metadata": {},
     "output_type": "display_data"
    },
    {
     "name": "stdout",
     "output_type": "stream",
     "text": [
      "Successfully downloaded data for 2020-11 into era5_netcdf_files\n"
     ]
    },
    {
     "name": "stderr",
     "output_type": "stream",
     "text": [
      "2024-12-17 19:18:35,002 INFO [2024-09-28T00:00:00] **Welcome to the New Climate Data Store (CDS)!** This new system is in its early days of full operations and still undergoing enhancements and fine tuning. Some disruptions are to be expected. Your \n",
      "[feedback](https://jira.ecmwf.int/plugins/servlet/desk/portal/1/create/202) is key to improve the user experience on the new CDS for the benefit of everyone. Thank you.\n",
      "2024-12-17 19:18:35,003 INFO [2024-09-26T00:00:00] Watch our [Forum](https://forum.ecmwf.int/) for Announcements, news and other discussed topics.\n",
      "2024-12-17 19:18:35,003 INFO [2024-09-16T00:00:00] Remember that you need to have an ECMWF account to use the new CDS. **Your old CDS credentials will not work in new CDS!**\n",
      "2024-12-17 19:18:35,003 WARNING [2024-06-16T00:00:00] CDS API syntax is changed and some keys or parameter names may have also changed. To avoid requests failing, please use the \"Show API request code\" tool on the dataset Download Form to check you are using the correct syntax for your API request.\n",
      "2024-12-17 19:18:35,739 WARNING [2024-10-10T00:00:00] The final validated ERA5 differs from ERA5T from July 2024 until further notice - please refer to our\n",
      "[Forum announcement](https://forum.ecmwf.int/t/final-validated-era5-product-to-differ-from-era5t-in-july-2024/6685)\n",
      "for details and watch it for further updates on this.\n",
      "2024-12-17 19:18:35,739 INFO Request ID is 66e5b8d8-7df5-4622-97fe-3eafb47019d4\n",
      "2024-12-17 19:18:35,874 INFO status has been updated to accepted\n",
      "2024-12-17 19:18:44,650 INFO status has been updated to running\n",
      "2024-12-17 19:18:49,849 INFO status has been updated to successful\n"
     ]
    },
    {
     "data": {
      "application/vnd.jupyter.widget-view+json": {
       "model_id": "31358f83734f4f02a5df06c4dd2eceda",
       "version_major": 2,
       "version_minor": 0
      },
      "text/plain": [
       "cc3e78c47b45078d46c08402a80d25cd.nc:   0%|          | 0.00/162k [00:00<?, ?B/s]"
      ]
     },
     "metadata": {},
     "output_type": "display_data"
    },
    {
     "name": "stdout",
     "output_type": "stream",
     "text": [
      "Successfully downloaded data for 2020-12 into era5_netcdf_files\n"
     ]
    }
   ],
   "source": [
    "\n",
    "def download_era5_data(year, month, closest_points, output_dir, max_retries=3):\n",
    "    # Initialize the CDS API client\n",
    "    c = cdsapi.Client()\n",
    "\n",
    "    # Get the number of days in the month\n",
    "    num_days = monthrange(year, month)[1]\n",
    "\n",
    "    # Ensure the output directory exists, create if not\n",
    "    output_dir = Path(output_dir)\n",
    "    output_dir.mkdir(parents=True, exist_ok=True)\n",
    "\n",
    "    # Calculate the expected range from the closest points\n",
    "    lat_min = min(point[0] for point in closest_points)\n",
    "    lat_max = max(point[0] for point in closest_points)\n",
    "    lon_min = min(point[1] for point in closest_points)\n",
    "    lon_max = max(point[1] for point in closest_points)\n",
    "\n",
    "    # Request ERA5 data with retry mechanism\n",
    "    for attempt in range(max_retries):\n",
    "        try:\n",
    "            c.retrieve(\n",
    "                'reanalysis-era5-single-levels',\n",
    "                {\n",
    "                    'product_type': 'reanalysis',\n",
    "                    'format': 'netcdf',  # Options: 'grib' or 'netcdf'\n",
    "                    'variable': [\n",
    "                        '2m_temperature', '10m_u_component_of_wind', '10m_v_component_of_wind',\n",
    "                        'surface_pressure', '100m_u_component_of_wind', '100m_v_component_of_wind'\n",
    "                    ],\n",
    "                    'year': str(year),\n",
    "                    'month': f'{month:02d}',\n",
    "                    'day': [f'{day:02d}' for day in range(1, num_days + 1)],\n",
    "                    'time': [\n",
    "                        '00:00', '01:00', '02:00', '03:00', '04:00', '05:00',\n",
    "                        '06:00', '07:00', '08:00', '09:00', '10:00', '11:00',\n",
    "                        '12:00', '13:00', '14:00', '15:00', '16:00', '17:00',\n",
    "                        '18:00', '19:00', '20:00', '21:00', '22:00', '23:00',\n",
    "                    ],\n",
    "                    'area': [\n",
    "                        lat_max, lon_min, lat_min, lon_max,\n",
    "                    ],  # North, West, South, East\n",
    "                },\n",
    "                output_dir / f'era5_single_levels_{year}{month:02d}.nc'  # Output file name\n",
    "            )\n",
    "            print(f'Successfully downloaded data for {year}-{month:02d} into {output_dir}')\n",
    "            break  # Exit the loop if the download is successful\n",
    "        except Exception as e:\n",
    "            print(f'Failed to download data for {year}-{month:02d} on attempt {attempt + 1}: {e}')\n",
    "            if attempt < max_retries - 1:\n",
    "                print('Retrying...')\n",
    "                time.sleep(5)  # Wait for 5 seconds before retrying\n",
    "            else:\n",
    "                print('Max retries reached. Moving to the next month.')\n",
    "\n",
    "# Example usage: Loop through months of a year and download data for each month to our directory\n",
    "output_dir = Path('era5_netcdf_files')\n",
    "year = 2020\n",
    "for month in range(1, 13):\n",
    "    download_era5_data(year, month, closest_points, output_dir)"
   ]
  },
  {
   "cell_type": "markdown",
   "metadata": {},
   "source": [
    "### combine nc files into polars df\n",
    "\n",
    "The data is in netcdf format, so we mine the nc files and make a polars df\n"
   ]
  },
  {
   "cell_type": "code",
   "execution_count": 20,
   "metadata": {},
   "outputs": [],
   "source": [
    "\n",
    "def load_nc_files_to_polars_df(nc_files):\n",
    "    dfs = []\n",
    "    for nc_file in nc_files:\n",
    "        # Load the NetCDF file using xarray\n",
    "        ds = xr.open_dataset(nc_file)\n",
    "\n",
    "        # Convert xarray.Dataset to a Pandas DataFrame\n",
    "        df = ds.to_dataframe().reset_index()\n",
    "\n",
    "        # Convert Pandas DataFrame to Polars DataFrame\n",
    "        pl_df = pl.from_pandas(df)\n",
    "\n",
    "        # Append to the list of DataFrames\n",
    "        dfs.append(pl_df)\n",
    "\n",
    "    # Concatenate all Polars DataFrames\n",
    "    combined_df = pl.concat(dfs)\n",
    "    return combined_df\n",
    "\n",
    "# Example usage: Load all .nc files in the output directory\n",
    "output_dir = Path('era5_data')\n",
    "nc_files = list(output_dir.glob('*.nc'))\n",
    "\n",
    "# Load the NetCDF files into a Polars DataFrame, then clean up \n",
    "polars_df = (load_nc_files_to_polars_df(nc_files) # returns a polars dataframe\n",
    "             .drop(['expver', 'number']) # drops the columns 'expver' and 'number' which didn't have data\n",
    "             # Date, TimeStamp, latitude, longitude not in table of accepted abbreviations in section 4 of IEC 61400-25-2, \n",
    "             # so used section 7.2.4.2 name for TimeStamp, appending UTC to avoid confusion with local time\n",
    "             # and table 45 names for latitude and longitude\n",
    "             .rename({'valid_time':'TimeStamp_UTC', 'latitude':'latitude', 'longitude':'longitude', # lat/long names kept\n",
    "                      'u10':'HorWdU_Alt10m', 'v10':'HorWdV_Alt10m', # some signals marked with 10m meaning 10 minutes,  \n",
    "                      'u100':'HorWdU_Alt100m', 'v100':'HorWdV_Alt100m', # so add Alt so 10m is altitude AGL above ground level\n",
    "                      't2m':'EnvTmp_Alt2m', 'sp':'EnvPres_Alt0m'})\n",
    "             .with_columns(pl.col('TimeStamp_UTC').dt.cast_time_unit('ms').alias('TimeStamp_UTC')) # put ts in ms, needs to be consistent later for joins\n",
    "             .sort(['TimeStamp_UTC', 'latitude', 'longitude']))\n",
    "\n",
    "# rename to iec -25-2 naming convention\n",
    "polars_df = polars_df\n",
    "\n",
    "# consider variables used and if it is reasonable to store as float32 instead of float64 as it takes up \n",
    "# half the space in RAM and you can deal with larger datasets\n",
    "# the command belos selects columns that are type float (32 or 64) and casts them to float32\n",
    "polars_df = polars_df.cast({cs.float():pl.Float32})\n"
   ]
  },
  {
   "cell_type": "code",
   "execution_count": 21,
   "metadata": {},
   "outputs": [
    {
     "name": "stdout",
     "output_type": "stream",
     "text": [
      "shape: (9, 10)\n",
      "┌────────────┬─────────────────────┬──────────┬───────────┬──────────────┬───────────────┬───────────────┬───────────────┬────────────────┬────────────────┐\n",
      "│ statistic  ┆ TimeStamp_UTC       ┆ latitude ┆ longitude ┆ EnvTmp_Alt2m ┆ HorWdU_Alt10m ┆ HorWdV_Alt10m ┆ EnvPres_Alt0m ┆ HorWdU_Alt100m ┆ HorWdV_Alt100m │\n",
      "│ ---        ┆ ---                 ┆ ---      ┆ ---       ┆ ---          ┆ ---           ┆ ---           ┆ ---           ┆ ---            ┆ ---            │\n",
      "│ str        ┆ str                 ┆ f64      ┆ f64       ┆ f64          ┆ f64           ┆ f64           ┆ f64           ┆ f64            ┆ f64            │\n",
      "╞════════════╪═════════════════════╪══════════╪═══════════╪══════════════╪═══════════════╪═══════════════╪═══════════════╪════════════════╪════════════════╡\n",
      "│ count      ┆ 35136               ┆ 35136.0  ┆ 35136.0   ┆ 35136.0      ┆ 35136.0       ┆ 35136.0       ┆ 35136.0       ┆ 35136.0        ┆ 35136.0        │\n",
      "│ null_count ┆ 0                   ┆ 0.0      ┆ 0.0       ┆ 0.0          ┆ 0.0           ┆ 0.0           ┆ 0.0           ┆ 0.0            ┆ 0.0            │\n",
      "│ mean       ┆ 2020-07-01 23:30:00 ┆ 52.375   ┆ -0.875    ┆ 283.960938   ┆ 1.658201      ┆ 1.06936       ┆ 100122.273438 ┆ 2.7473         ┆ 1.635691       │\n",
      "│ std        ┆ null                ┆ 0.125002 ┆ 0.125002  ┆ 5.814668     ┆ 3.47585       ┆ 3.56183       ┆ 1190.049805   ┆ 5.531496       ┆ 5.616271       │\n",
      "│ min        ┆ 2020-01-01 00:00:00 ┆ 52.25    ┆ -1.0      ┆ 270.56134    ┆ -7.789871     ┆ -9.979416     ┆ 95628.28125   ┆ -12.607285     ┆ -14.742493     │\n",
      "│ 25%        ┆ 2020-04-01 12:00:00 ┆ 52.25    ┆ -1.0      ┆ 279.648254   ┆ -1.023514     ┆ -1.47049      ┆ 99399.414062  ┆ -1.620895      ┆ -2.700119      │\n",
      "│ 50%        ┆ 2020-07-02 00:00:00 ┆ 52.5     ┆ -0.75     ┆ 283.434387   ┆ 1.922028      ┆ 1.003311      ┆ 100266.976562 ┆ 3.468735       ┆ 1.528824       │\n",
      "│ 75%        ┆ 2020-10-01 11:00:00 ┆ 52.5     ┆ -0.75     ┆ 287.909241   ┆ 4.120361      ┆ 3.574753      ┆ 100931.398438 ┆ 6.831512       ┆ 5.836319       │\n",
      "│ max        ┆ 2020-12-31 23:00:00 ┆ 52.5     ┆ -0.75     ┆ 307.781555   ┆ 12.20639      ┆ 14.168121     ┆ 103669.453125 ┆ 18.772491      ┆ 21.104904      │\n",
      "└────────────┴─────────────────────┴──────────┴───────────┴──────────────┴───────────────┴───────────────┴───────────────┴────────────────┴────────────────┘\n"
     ]
    }
   ],
   "source": [
    "# review data for completeness and reasonableness, and ts range\n",
    "print(polars_df.describe())"
   ]
  },
  {
   "cell_type": "code",
   "execution_count": 19,
   "metadata": {},
   "outputs": [
    {
     "name": "stdout",
     "output_type": "stream",
     "text": [
      "shape: (5, 10)\n",
      "┌─────────────────────┬──────────┬───────────┬──────────────┬───────────────┬───────────────┬───────────────┬────────────────┬────────────────┬─────────────────────┐\n",
      "│ TimeStamp_UTC       ┆ latitude ┆ longitude ┆ EnvTmp_Alt2m ┆ HorWdU_Alt10m ┆ HorWdV_Alt10m ┆ EnvPres_Alt0m ┆ HorWdU_Alt100m ┆ HorWdV_Alt100m ┆ TimeStamp           │\n",
      "│ ---                 ┆ ---      ┆ ---       ┆ ---          ┆ ---           ┆ ---           ┆ ---           ┆ ---            ┆ ---            ┆ ---                 │\n",
      "│ datetime[ns]        ┆ f32      ┆ f32       ┆ f32          ┆ f32           ┆ f32           ┆ f32           ┆ f32            ┆ f32            ┆ datetime[ms]        │\n",
      "╞═════════════════════╪══════════╪═══════════╪══════════════╪═══════════════╪═══════════════╪═══════════════╪════════════════╪════════════════╪═════════════════════╡\n",
      "│ 2020-01-01 00:00:00 ┆ 52.25    ┆ -1.0      ┆ 279.213928   ┆ -3.089966     ┆ 1.042038      ┆ 101720.429688 ┆ -5.053909      ┆ 2.368256       ┆ 2020-01-01 00:00:00 │\n",
      "│ 2020-01-01 00:00:00 ┆ 52.25    ┆ -0.75     ┆ 279.210022   ┆ -3.121216     ┆ 1.08403       ┆ 101906.429688 ┆ -5.1418        ┆ 2.460052       ┆ 2020-01-01 00:00:00 │\n",
      "│ 2020-01-01 00:00:00 ┆ 52.5     ┆ -1.0      ┆ 278.844788   ┆ -3.275513     ┆ 0.685593      ┆ 101638.429688 ┆ -5.508987      ┆ 1.993256       ┆ 2020-01-01 00:00:00 │\n",
      "│ 2020-01-01 00:00:00 ┆ 52.5     ┆ -0.75     ┆ 278.770569   ┆ -3.378052     ┆ 0.68071       ┆ 101899.429688 ┆ -5.651566      ┆ 2.034271       ┆ 2020-01-01 00:00:00 │\n",
      "│ 2020-01-01 01:00:00 ┆ 52.25    ┆ -1.0      ┆ 279.005859   ┆ -2.741882     ┆ 1.316559      ┆ 101673.585938 ┆ -4.398529      ┆ 2.641815       ┆ 2020-01-01 01:00:00 │\n",
      "└─────────────────────┴──────────┴───────────┴──────────────┴───────────────┴───────────────┴───────────────┴────────────────┴────────────────┴─────────────────────┘\n"
     ]
    }
   ],
   "source": [
    "print(polars_df.head())"
   ]
  },
  {
   "cell_type": "code",
   "execution_count": 6,
   "metadata": {},
   "outputs": [],
   "source": [
    "# Ensure the output directory exists\n",
    "cwd = Path.cwd()\n",
    "output_dir = cwd / 'output'\n",
    "output_dir.mkdir(parents=True, exist_ok=True)\n",
    "polars_df.write_csv(output_dir / 'era5_data.csv', datetime_format='%Y-%m-%d %H:%M:%S')\n",
    "polars_df.write_parquet(output_dir / 'era5_data.parquet')"
   ]
  }
 ],
 "metadata": {
  "kernelspec": {
   "display_name": "base",
   "language": "python",
   "name": "python3"
  },
  "language_info": {
   "codemirror_mode": {
    "name": "ipython",
    "version": 3
   },
   "file_extension": ".py",
   "mimetype": "text/x-python",
   "name": "python",
   "nbconvert_exporter": "python",
   "pygments_lexer": "ipython3",
   "version": "3.11.5"
  }
 },
 "nbformat": 4,
 "nbformat_minor": 2
}
